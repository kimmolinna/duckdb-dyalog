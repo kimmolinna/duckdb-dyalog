{
 "cells": [
  {
   "cell_type": "markdown",
   "metadata": {},
   "source": [
    "# DuckDB and DyalogAPL"
   ]
  },
  {
   "cell_type": "markdown",
   "metadata": {},
   "source": [
    "## Dyalog-Jupyter-Notebook with DuckDB."
   ]
  },
  {
   "cell_type": "code",
   "execution_count": null,
   "metadata": {
    "vscode": {
     "languageId": "apl"
    }
   },
   "outputs": [],
   "source": [
    "]link.create # ../duckdb-dyalog"
   ]
  },
  {
   "cell_type": "markdown",
   "metadata": {},
   "source": [
    "Page width setting"
   ]
  },
  {
   "cell_type": "code",
   "execution_count": null,
   "metadata": {
    "vscode": {
     "languageId": "apl"
    }
   },
   "outputs": [],
   "source": [
    "⎕pw←32767 ⋄ ⎕PP←34"
   ]
  },
  {
   "cell_type": "markdown",
   "metadata": {},
   "source": [
    "duckdb.init folder_to_duckdb-dyalog"
   ]
  },
  {
   "cell_type": "code",
   "execution_count": null,
   "metadata": {
    "vscode": {
     "languageId": "apl"
    }
   },
   "outputs": [],
   "source": [
    "duckdb.init 'lib/'"
   ]
  },
  {
   "cell_type": "code",
   "execution_count": null,
   "metadata": {
    "vscode": {
     "languageId": "apl"
    }
   },
   "outputs": [],
   "source": [
    "_db←duckdb.open ':memory:'\n",
    "_con←duckdb.connect _db\n",
    "_con"
   ]
  },
  {
   "cell_type": "code",
   "execution_count": null,
   "metadata": {
    "vscode": {
     "languageId": "apl"
    }
   },
   "outputs": [],
   "source": [
    "duckdb.query _con 'CREATE TABLE airline AS SELECT * FROM \"data/airline.parquet\"'"
   ]
  },
  {
   "cell_type": "code",
   "execution_count": null,
   "metadata": {
    "vscode": {
     "languageId": "apl"
    }
   },
   "outputs": [],
   "source": [
    "]multiline\n",
    "duckdb.toTable duckdb.query _con ```\n",
    "SELECT * \n",
    "FROM airline\n",
    "LIMIT 5\n",
    "```"
   ]
  },
  {
   "cell_type": "code",
   "execution_count": null,
   "metadata": {
    "vscode": {
     "languageId": "apl"
    }
   },
   "outputs": [],
   "source": [
    "duckdb.query _con 'DROP TABLE IF EXISTS test'"
   ]
  },
  {
   "cell_type": "code",
   "execution_count": null,
   "metadata": {
    "vscode": {
     "languageId": "apl"
    }
   },
   "outputs": [],
   "source": [
    "duckdb.query _con 'CREATE TABLE test (a INT, b DOUBLE)'"
   ]
  },
  {
   "cell_type": "code",
   "execution_count": null,
   "metadata": {
    "vscode": {
     "languageId": "apl"
    }
   },
   "outputs": [],
   "source": [
    "a←⍳1000000\n",
    "b←2 5 (16808⌶)'Beta' 1000000"
   ]
  },
  {
   "cell_type": "code",
   "execution_count": null,
   "metadata": {
    "vscode": {
     "languageId": "apl"
    }
   },
   "outputs": [],
   "source": [
    "b[⍳10]"
   ]
  },
  {
   "cell_type": "code",
   "execution_count": null,
   "metadata": {
    "vscode": {
     "languageId": "apl"
    }
   },
   "outputs": [],
   "source": [
    "duckdb.append _con '' 'test' (a b) (duckdb.type.INTEGER duckdb.type.DOUBLE)"
   ]
  },
  {
   "cell_type": "code",
   "execution_count": null,
   "metadata": {
    "vscode": {
     "languageId": "apl"
    }
   },
   "outputs": [],
   "source": [
    "duckdb.toTable duckdb.query _con 'SELECT * FROM test LIMIT 5'"
   ]
  },
  {
   "cell_type": "code",
   "execution_count": null,
   "metadata": {
    "vscode": {
     "languageId": "apl"
    }
   },
   "outputs": [],
   "source": [
    "_←duckdb.disconnect _con\n",
    "_←duckdb.close _db "
   ]
  },
  {
   "cell_type": "code",
   "execution_count": null,
   "metadata": {
    "vscode": {
     "languageId": "apl"
    }
   },
   "outputs": [],
   "source": [
    "duckdb.test"
   ]
  }
 ],
 "metadata": {
  "kernelspec": {
   "display_name": "Dyalog APL",
   "language": "apl",
   "name": "dyalog-kernel"
  },
  "language_info": {
   "file_extension": ".apl",
   "mimetype": "text/apl",
   "name": "APL"
  },
  "orig_nbformat": 4
 },
 "nbformat": 4,
 "nbformat_minor": 2
}
